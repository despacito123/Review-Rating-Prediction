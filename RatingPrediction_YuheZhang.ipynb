{
 "cells": [
  {
   "cell_type": "markdown",
   "metadata": {},
   "source": [
    "In this notebook, I consider the 5-core dataset of reviews for movies and TV on Amazon, in which all users and items have at least 5 reviews. The dataset can be downloaded at this [website](http://jmcauley.ucsd.edu/data/amazon/). The task is to predict the ratings. Two different types of model can be exploited for this kind of dataset. The first type is collabrative filtering based on the reviewer-item rating matrix. The second is a classifier based purely on the review text content. I will first try both methods independently, and then check if combination of two methods can lead to better performance.\n",
    "\n",
    "# I. Data Aquisition\n",
    "\n",
    "First download the *reviews_Movies_and_TV_5.json.gz* file from the [website](http://jmcauley.ucsd.edu/data/amazon/). Then use the following code to read into a dataframe."
   ]
  },
  {
   "cell_type": "code",
   "execution_count": 1,
   "metadata": {
    "collapsed": true
   },
   "outputs": [],
   "source": [
    "import numpy as np\n",
    "import pandas as pd\n",
    "import gzip\n",
    "\n",
    "\n",
    "def parse(path):\n",
    "  g = gzip.open(path, 'rb')\n",
    "  for l in g:\n",
    "    yield eval(l)\n",
    "\n",
    "def getDF(path):\n",
    "  i = 0\n",
    "  df = {}\n",
    "  for d in parse(path):\n",
    "    df[i] = d\n",
    "    i += 1\n",
    "  return pd.DataFrame.from_dict(df, orient='index')\n",
    "\n",
    "df = getDF('reviews_Movies_and_TV_5.json.gz')\n",
    "# df.to_csv(\"reviews_Movies_and_TV_5.csv\") # write to disk for future use\n",
    "# df = pd.read_csv('reviews_Movies_and_TV_5.csv', index_col=0)"
   ]
  },
  {
   "cell_type": "markdown",
   "metadata": {},
   "source": [
    "I will use 70% of the entire dataset as training set, 20% as cross validation (CV) set, and 10% as test set."
   ]
  },
  {
   "cell_type": "code",
   "execution_count": 2,
   "metadata": {
    "collapsed": false
   },
   "outputs": [],
   "source": [
    "numOfReviews = len(df)\n",
    "\n",
    "N_train = numOfReviews*7/10\n",
    "N_cv = numOfReviews*2/10\n",
    "N_test = numOfReviews - N_train - N_cv"
   ]
  },
  {
   "cell_type": "markdown",
   "metadata": {},
   "source": [
    "# II. Biased Matrix Factorization (MF) Based on Reviewer-Item Rating Matrix\n",
    "\n",
    "I use the [MyMediaLite](http://www.mymedialite.net/) software to build the biased matrix factorization model. A good introduction to biased matrix factorization can be found at this [site](http://activisiongamescience.github.io/2016/01/11/Implicit-Recommender-Systems-Biased-Matrix-Factorization/).\n",
    "In the following, I first randomly shuffle the original data, extract the userId, productId, and ratings to form the dataframe **ratings**. I then divide the ratings dataframe into training, cross validation and test set, and save them as csv file to feed for the MyMediaLite software. "
   ]
  },
  {
   "cell_type": "code",
   "execution_count": 3,
   "metadata": {
    "collapsed": false
   },
   "outputs": [],
   "source": [
    "df2 = df.sample(frac = 1) # random shuffle\n",
    "del df\n",
    "# df2.to_csv(\"shuffled_reviews_Movies_and_TV_5.csv\")\n",
    "\n",
    "ratings = df2[['reviewerID', 'asin', 'overall']]\n",
    "ratings.iloc[0 : N_train, :].to_csv(\"ratings_Movies_and_TV_5_train.csv\", index = False, header = False)\n",
    "\n",
    "ratings_cv = ratings.iloc[N_train : N_train + N_cv, :]\n",
    "ratings_cv.index = range(0, len(ratings_cv))\n",
    "ratings_cv.to_csv(\"ratings_Movies_and_TV_5_cv.csv\", index = False, header = False)\n",
    "\n",
    "ratings_test = ratings.iloc[-N_test :, :]\n",
    "ratings_test.index = range(0, len(ratings_test))\n",
    "ratings_test.to_csv(\"ratings_Movies_and_TV_5_test.csv\", index = False, header = False)"
   ]
  },
  {
   "cell_type": "markdown",
   "metadata": {},
   "source": [
    "[Download](http://www.mymedialite.net/download/index.html) the MyMediaLite binary package and use the following command to train biased MF model and make prediction on validation set and test set repectively:\n",
    "\n",
    "```\n",
    "./rating_prediction --recommender=BiasedMatrixFactorization --recommender-options=\"num_factors=20 bias_reg=0.001\" --training-file=ratings_Movies_and_TV_5_train.csv --test-file=ratings_Movies_and_TV_5_cv.csv --prediction-file=prediction_cv.csv\n",
    "\n",
    "./rating_prediction --recommender=BiasedMatrixFactorization --recommender-options=\"num_factors=20 bias_reg=0.001\" --training-file=ratings_Movies_and_TV_5_train.csv --test-file=ratings_Movies_and_TV_5_test.csv --prediction-file=prediction_test.csv\n",
    "\n",
    "```\n",
    "The above command produces prediction files \"prediction_cv.csv\" and \"prediction_test.csv\" for the validation set and test set respectively. We read the CV file and calculate the root mean square error (RMSE) and accuracy."
   ]
  },
  {
   "cell_type": "code",
   "execution_count": 133,
   "metadata": {
    "collapsed": false
   },
   "outputs": [
    {
     "name": "stdout",
     "output_type": "stream",
     "text": [
      "matrix factorization: RMSE is 1.03371225856\n",
      "matrix factorization: accuracy is 0.43604236744\n"
     ]
    }
   ],
   "source": [
    "MF_pred_cv = pd.read_csv(\"prediction_cv.csv\" ,sep=\"\\t\", header=None)\n",
    "MF_pred_test = pd.read_csv(\"prediction_test.csv\" ,sep=\"\\t\", header=None)\n",
    "\n",
    "MF_RMSE_cv = np.sqrt(np.sum((MF_pred_cv.iloc[:,2] - ratings_cv['overall'])**2)/N_cv)\n",
    "print(\"matrix factorization: RMSE is\", MF_RMSE_cv)\n",
    "\n",
    "MF_ratingPred_cv = np.round(MF_pred_cv.iloc[:, 2]) # round to integer ratings\n",
    "MF_accuracy_cv = sum(MF_ratingPred_cv==ratings_cv['overall'])*1.0/N_cv\n",
    "print(\"matrix factorization: accuracy is\", MF_accuracy_cv)"
   ]
  },
  {
   "cell_type": "markdown",
   "metadata": {},
   "source": [
    "# III. Classifier Based on Review Text Content\n",
    "\n",
    "In the next, we will use word count vector of the review text and/or summary text as features to build classifer. We will try naive Bayes, logistic regression and linear regression. \n",
    "\n",
    "## Feature Selection\n",
    "\n",
    "The dataset comes with a default vocabulary containing all the words appearing in the training set. The performance of classification algorithms on such a huge vocabulary might be poor. There are diffrent ways to reduce the size of the vocabulary (dictionary). Since I don't have enough time to check all the different dictionaries to identify the best feature set (features being words), I would just utilize some of the findings in previous work. For example, [this work](http://cs229.stanford.edu/proj2011/MehtaPhilipScaria-Predicting%20Star%20Ratings%20from%20Movie%20Review%20Comments.pdf) shows that word stemming reduces performance, removing stop words improves performance largely, identifying negation of context and including frequent bigrams does not improve performance, dliminating words that have very less information results in improvement in performance. **Given the above findings, I will construct unigram word count vector from the review texts with standard English stop-words removed. I will also ignore words that have a document frequency strictly lower than a threshold min_df.** One consideration of using a min_df is to reduce the dimension of the feature, otherwise the logistic regression may take too long to train.\n",
    "\n",
    "Because naive Bayes algorithm is fast to train, I will use naive Bayes to select best min_df and check the performance of using review and/or summary texts as training set."
   ]
  },
  {
   "cell_type": "code",
   "execution_count": 134,
   "metadata": {
    "collapsed": false
   },
   "outputs": [],
   "source": [
    "from time import time\n",
    "\n",
    "from sklearn.feature_extraction.text import CountVectorizer\n",
    "from sklearn.linear_model import LogisticRegression\n",
    "from sklearn.naive_bayes import MultinomialNB\n",
    "from sklearn.naive_bayes import BernoulliNB\n",
    "from sklearn.linear_model import Ridge"
   ]
  },
  {
   "cell_type": "code",
   "execution_count": 135,
   "metadata": {
    "collapsed": true
   },
   "outputs": [],
   "source": [
    "# Save the true ratings for training set and validation set for later use\n",
    "\n",
    "target_train = df2['overall'][0:N_train]\n",
    "target_train.index = range(N_train)\n",
    "\n",
    "trueRating_cv = df2['overall'][N_train: N_train+N_cv]\n",
    "trueRating_cv.index = range(N_cv)"
   ]
  },
  {
   "cell_type": "code",
   "execution_count": 136,
   "metadata": {
    "collapsed": true
   },
   "outputs": [],
   "source": [
    "# Function to calculate accuracy and RMSE on validation set\n",
    "def scoresOnCV(model, wordvec, description):\n",
    "    prediction = model.predict(wordvec[N_train: N_train+N_cv])\n",
    "    accuracy = np.sum(trueRating_cv == np.round(prediction))*1.0/N_cv\n",
    "    print(description + \": accuracy is \"+ str(accuracy))\n",
    "    RMSE = np.sqrt(np.sum((trueRating_cv - prediction)**2)/N_cv)\n",
    "    print(description + \": RMSE is \"+ str(RMSE))\n",
    "\n",
    "    return accuracy, RMSE"
   ]
  },
  {
   "cell_type": "markdown",
   "metadata": {},
   "source": [
    "Build the word count vector **wordvec** with standard English stop-words and a min_df = 0.001."
   ]
  },
  {
   "cell_type": "code",
   "execution_count": 7,
   "metadata": {
    "collapsed": false
   },
   "outputs": [],
   "source": [
    "# Save the review texts onto disk, and the vectorizer reads from the disk to build the word count vectors\n",
    "# There will be memory issues if I directly pass the pd dataframe to the vectorizer\n",
    "df2['reviewText'].to_csv(\"corpus.txt\", index=False)"
   ]
  },
  {
   "cell_type": "code",
   "execution_count": 137,
   "metadata": {
    "collapsed": true
   },
   "outputs": [],
   "source": [
    "corpus = open('corpus.txt')\n",
    "vectorizer = CountVectorizer(stop_words = 'english', min_df=0.001)\n",
    "wordvec = vectorizer.fit_transform(corpus)\n",
    "# wordvec = vectorizer.fit_transform(df2['reviewText'].values.astype('U')) # this line may lead to memory issue"
   ]
  },
  {
   "cell_type": "code",
   "execution_count": 138,
   "metadata": {
    "collapsed": false
   },
   "outputs": [
    {
     "data": {
      "text/plain": [
       "(1697533, 7762)"
      ]
     },
     "execution_count": 138,
     "metadata": {},
     "output_type": "execute_result"
    }
   ],
   "source": [
    "wordvec.shape"
   ]
  },
  {
   "cell_type": "code",
   "execution_count": 141,
   "metadata": {
    "collapsed": false
   },
   "outputs": [
    {
     "name": "stdout",
     "output_type": "stream",
     "text": [
      "min_df = 0.001\n",
      "multinomial naive Bayes: accuracy is 0.582019169028\n",
      "multinomial naive Bayes: RMSE is 1.17076284672\n"
     ]
    }
   ],
   "source": [
    "print('min_df =', 0.001)\n",
    "\n",
    "mnb_clf = MultinomialNB()\n",
    "\n",
    "mnb_clf.fit(wordvec[0:N_train], target_train)\n",
    "mnb_accuracy_cv, mnb_RMSE_cv = scoresOnCV(mnb_clf, wordvec, \"multinomial naive Bayes\")"
   ]
  },
  {
   "cell_type": "code",
   "execution_count": 142,
   "metadata": {
    "collapsed": false
   },
   "outputs": [
    {
     "name": "stdout",
     "output_type": "stream",
     "text": [
      "Bernoulli naive Bayes: accuracy is 0.527266086608\n",
      "Bernoulli naive Bayes: RMSE is 1.21038852531\n"
     ]
    }
   ],
   "source": [
    "bnb_clf = BernoulliNB()\n",
    "\n",
    "bnb_clf.fit(wordvec[0:N_train], target_train)\n",
    "bnb_accuracy_cv, bnb_RMSE_cv = scoresOnCV(bnb_clf, wordvec, \"Bernoulli naive Bayes\")"
   ]
  },
  {
   "cell_type": "markdown",
   "metadata": {},
   "source": [
    "Next, I modify min_df to 0.0001 and build **wordvec2**."
   ]
  },
  {
   "cell_type": "code",
   "execution_count": 144,
   "metadata": {
    "collapsed": false
   },
   "outputs": [
    {
     "name": "stdout",
     "output_type": "stream",
     "text": [
      "min_df = 0.0001\n",
      "multinomial naive Bayes: accuracy is 0.579762949698\n",
      "multinomial naive Bayes: RMSE is 1.18344819156\n",
      "Bernoulli naive Bayes: accuracy is 0.528659287317\n",
      "Bernoulli naive Bayes: RMSE is 1.20902013615\n"
     ]
    }
   ],
   "source": [
    "corpus = open('corpus.txt')\n",
    "vectorizer2 = CountVectorizer(stop_words = 'english', min_df=0.0001)\n",
    "wordvec2 = vectorizer2.fit_transform(corpus)\n",
    "\n",
    "print('min_df =', 0.0001)\n",
    "\n",
    "mnb_clf = MultinomialNB()\n",
    "mnb_clf.fit(wordvec2[0:N_train], target_train)\n",
    "mnb_accuracy_cv, mnb_RMSE_cv = scoresOnCV(mnb_clf, wordvec2, \"multinomial naive Bayes\")\n",
    "\n",
    "bnb_clf = BernoulliNB()\n",
    "bnb_clf.fit(wordvec2[0:N_train], target_train)\n",
    "bnb_accuracy_cv, bnb_RMSE_cv = scoresOnCV(bnb_clf, wordvec2, \"Bernoulli naive Bayes\")"
   ]
  },
  {
   "cell_type": "markdown",
   "metadata": {},
   "source": [
    "Next, I try min_df = 0.01 for **wordvec3**."
   ]
  },
  {
   "cell_type": "code",
   "execution_count": 145,
   "metadata": {
    "collapsed": false
   },
   "outputs": [
    {
     "name": "stdout",
     "output_type": "stream",
     "text": [
      "min_df = 0.01\n",
      "multinomial naive Bayes: accuracy is 0.577618657697\n",
      "multinomial naive Bayes: RMSE is 1.18720540817\n",
      "Bernoulli naive Bayes: accuracy is 0.518824409583\n",
      "Bernoulli naive Bayes: RMSE is 1.25180588008\n"
     ]
    }
   ],
   "source": [
    "corpus = open('corpus.txt')\n",
    "vectorizer3 = CountVectorizer(stop_words = 'english', min_df=0.01)\n",
    "wordvec3 = vectorizer3.fit_transform(corpus)\n",
    "\n",
    "print('min_df =', 0.01)\n",
    "\n",
    "mnb_clf.fit(wordvec3[0:N_train], target_train)\n",
    "mnb_accuracy_cv, mnb_RMSE_cv = scoresOnCV(mnb_clf, wordvec3, \"multinomial naive Bayes\")\n",
    "\n",
    "bnb_clf = BernoulliNB()\n",
    "bnb_clf.fit(wordvec3[0:N_train], target_train)\n",
    "bnb_accuracy_cv, bnb_RMSE_cv = scoresOnCV(bnb_clf, wordvec3, \"Bernoulli naive Bayes\")"
   ]
  },
  {
   "cell_type": "markdown",
   "metadata": {
    "collapsed": false
   },
   "source": [
    "Next, I use the summary text only to build the word count vector **wordvec4**. Since the Bernoulli naive Bayes always performs worse than the multinomial naive Bayes, I will only test for multinomial naive Bayes in the following."
   ]
  },
  {
   "cell_type": "code",
   "execution_count": 12,
   "metadata": {
    "collapsed": false
   },
   "outputs": [
    {
     "name": "stdout",
     "output_type": "stream",
     "text": [
      "multinomial naive Bayes: accuracy is 0.581798259825\n",
      "multinomial naive Bayes: RMSE is 1.19318568138\n"
     ]
    }
   ],
   "source": [
    "vectorizer4 = CountVectorizer(stop_words = 'english')\n",
    "wordvec4 = vectorizer4.fit_transform(df2['summary'].values.astype('U'))\n",
    "\n",
    "mnb_clf.fit(wordvec4[0:N_train], target_train)\n",
    "mnb_accuracy_cv, mnb_RMSE_cv = scoresOnCV(mnb_clf, wordvec4, \"multinomial naive Bayes\")"
   ]
  },
  {
   "cell_type": "markdown",
   "metadata": {},
   "source": [
    "The accuracy of the model using summary text is actually as good as the model using the entire review text. I then add the review text and summary text together to form a new text and use the new text to build the word count vector **wordvec5** with min_df = 0.001."
   ]
  },
  {
   "cell_type": "code",
   "execution_count": 14,
   "metadata": {
    "collapsed": true
   },
   "outputs": [],
   "source": [
    "df2['reviewTextandSummary'] = df2['reviewText'] + df2['summary']\n",
    "df2['reviewTextandSummary'].to_csv(\"corpus2.txt\", index=False)\n",
    "\n",
    "corpus2 = open('corpus2.txt')\n",
    "\n",
    "vectorizer5 = CountVectorizer(stop_words = 'english', min_df=0.001)\n",
    "wordvec5 = vectorizer5.fit_transform(corpus2)"
   ]
  },
  {
   "cell_type": "code",
   "execution_count": 16,
   "metadata": {
    "collapsed": false
   },
   "outputs": [
    {
     "name": "stdout",
     "output_type": "stream",
     "text": [
      "multinomial naive Bayes: accuracy is 0.595883430632\n",
      "multinomial naive Bayes: RMSE is 1.1114540729\n"
     ]
    }
   ],
   "source": [
    "mnb_clf.fit(wordvec5[0:N_train], target_train)\n",
    "mnb_accuracy_cv, mnb_RMSE_cv = scoresOnCV(mnb_clf, wordvec5, \"multinomial naive Bayes\")"
   ]
  },
  {
   "cell_type": "markdown",
   "metadata": {},
   "source": [
    "The above feature **wordvec5** gives the best accuracy so far.\n",
    "\n",
    "In the next, I eliminate words with low information, using same method as this previous [work](http://cs229.stanford.edu/proj2011/MehtaPhilipScaria-Predicting%20Star%20Ratings%20from%20Movie%20Review%20Comments.pdf). Starting with wordvec5, The ratio of number of occurrences of each word in positive comments (4, 5 star ratings) and negative comments (1, 2 ratings) are counted and those words with positive-count/netative-count > 2 or netative-count/positive-count> 2 are selected."
   ]
  },
  {
   "cell_type": "code",
   "execution_count": 70,
   "metadata": {
    "collapsed": false
   },
   "outputs": [],
   "source": [
    "from scipy.sparse import find\n",
    "\n",
    "allratings = df2['overall']\n",
    "allratings.index = range(numOfReviews)"
   ]
  },
  {
   "cell_type": "code",
   "execution_count": 128,
   "metadata": {
    "collapsed": false
   },
   "outputs": [
    {
     "name": "stdout",
     "output_type": "stream",
     "text": [
      "select words with information: done in 2774.081s\n"
     ]
    }
   ],
   "source": [
    "t0 = time()\n",
    "\n",
    "select = []\n",
    "for i in range(wordvec5.shape[1]):\n",
    "    rows, columns, values = find(wordvec5[:, i])\n",
    "    positive = np.sum(values[allratings[rows] > 3])\n",
    "    negative = np.sum(values[allratings[rows] < 3])\n",
    "    if(positive*negative == 0 or positive/negative > 2 or negative/positive > 2):\n",
    "        select.append(i)\n",
    "        \n",
    "print(\"select words with information: done in %0.3fs\" % (time() - t0))"
   ]
  },
  {
   "cell_type": "code",
   "execution_count": 129,
   "metadata": {
    "collapsed": false
   },
   "outputs": [
    {
     "name": "stdout",
     "output_type": "stream",
     "text": [
      "multinomial naive Bayes: accuracy is 0.561645449565\n",
      "multinomial naive Bayes: RMSE is 1.29553774722\n"
     ]
    }
   ],
   "source": [
    "wordvec6 = wordvec5[:,select]\n",
    "mnb_clf.fit(wordvec6[0:N_train], target_train)\n",
    "mnb_accuracy_cv, mnb_RMSE_cv = scoresOnCV(mnb_clf, wordvec6, \"multinomial naive Bayes\")"
   ]
  },
  {
   "cell_type": "markdown",
   "metadata": {},
   "source": [
    "After elimilating low-information words from the **wordvec5**, the accuray actually becomes lower than using the original **wordvec5** feature."
   ]
  },
  {
   "cell_type": "markdown",
   "metadata": {},
   "source": [
    "## Model Selection\n",
    "\n",
    "In the above, I have found the optimal feature, **wordvec5**, namely the word count vector of the combined text of review and summary, with min_df = 0.001. The multinomial naive Bayes classifier obtains an accuracy of 0.596 and a RMSE of 1.111 with this feature. In the next, we will try logistic regression and linear regression. Note that for linear regression, the prediction is rounded to nearest integer when calculating accuracy, but remains decimal when calculating RMSE. "
   ]
  },
  {
   "cell_type": "code",
   "execution_count": 132,
   "metadata": {
    "collapsed": false
   },
   "outputs": [
    {
     "name": "stdout",
     "output_type": "stream",
     "text": [
      "linear regression: accuracy is 0.403433223566\n",
      "linear regression: RMSE is 0.930900482216\n",
      "linear regression: done in 311.523s\n"
     ]
    }
   ],
   "source": [
    "t0 = time()\n",
    "\n",
    "linear_reg = Ridge(alpha=0.1)\n",
    "linear_reg.fit(wordvec5[0:N_train], target_train)\n",
    "lreg_accuracy_cv, lreg_RMSE_cv = scoresOnCV(linear_reg, wordvec5, \"linear regression\")\n",
    "\n",
    "print(\"linear regression: done in %0.3fs\" % (time() - t0))"
   ]
  },
  {
   "cell_type": "code",
   "execution_count": 152,
   "metadata": {
    "collapsed": false
   },
   "outputs": [
    {
     "name": "stdout",
     "output_type": "stream",
     "text": [
      "logistic regression: accuracy is 0.640097671322\n",
      "logistic regression: RMSE is 0.977248202774\n",
      "logistic regression training: done in 1116.553s\n"
     ]
    }
   ],
   "source": [
    "t0 = time()\n",
    "\n",
    "logistic_clf = LogisticRegression(multi_class='multinomial', solver='sag', max_iter=300) \n",
    "logistic_clf.fit(wordvec5[0:N_train], target_train)\n",
    "logi_accuracy_cv, logi_RMSE_cv = scoresOnCV(logistic_clf, wordvec5, \"logistic regression\")\n",
    "\n",
    "print(\"logistic regression training: done in %0.3fs\" % (time() - t0))"
   ]
  },
  {
   "cell_type": "markdown",
   "metadata": {},
   "source": [
    "The best classfier model among all I investigated is the logistic regression."
   ]
  },
  {
   "cell_type": "markdown",
   "metadata": {},
   "source": [
    "# IV. Combining MF and Classifier \n",
    "\n",
    "The simplest way to combine the MF and classifier (CLF) is to add their predictions with some weights:\n",
    "\\begin{equation}\n",
    "Prediction = \\alpha*Prediction_{CLF} + (1-\\alpha)*Prediction_{MF}\n",
    "\\end{equation}\n",
    "I will combine the MF and the logistic regression model above, and find the best parameter $\\alpha$ through validation set.\n",
    "\n",
    "A previous [work](https://www.hindawi.com/journals/cin/2016/5968705/) combining these two kinds of models define the hypothesis as a combination of the two using the same scheme as above. Then they minimize the cost function according to the combined hypothesis, so that they train the parameters in MF and CLF together. My method is to train the MF and CLF independently and combine their prediction at last step. I think their method should perform better but I don't have time to try. "
   ]
  },
  {
   "cell_type": "code",
   "execution_count": 153,
   "metadata": {
    "collapsed": false
   },
   "outputs": [
    {
     "name": "stdout",
     "output_type": "stream",
     "text": [
      "Combination model with alpha = 0.00: accuracy is 0.436042\n",
      "RMSE is 1.03371225856\n",
      "Combination model with alpha = 0.02: accuracy is 0.442357\n",
      "RMSE is 1.02097852466\n",
      "Combination model with alpha = 0.04: accuracy is 0.448428\n",
      "RMSE is 1.00856754083\n",
      "Combination model with alpha = 0.06: accuracy is 0.454213\n",
      "RMSE is 0.996491366393\n",
      "Combination model with alpha = 0.08: accuracy is 0.460392\n",
      "RMSE is 0.984762318768\n",
      "Combination model with alpha = 0.10: accuracy is 0.466339\n",
      "RMSE is 0.973392946307\n",
      "Combination model with alpha = 0.12: accuracy is 0.472590\n",
      "RMSE is 0.962395996284\n",
      "Combination model with alpha = 0.14: accuracy is 0.478634\n",
      "RMSE is 0.951784377731\n",
      "Combination model with alpha = 0.16: accuracy is 0.484893\n",
      "RMSE is 0.941571118932\n",
      "Combination model with alpha = 0.18: accuracy is 0.491535\n",
      "RMSE is 0.931769319418\n",
      "Combination model with alpha = 0.20: accuracy is 0.497423\n",
      "RMSE is 0.922392096397\n",
      "Combination model with alpha = 0.22: accuracy is 0.503753\n",
      "RMSE is 0.91345252568\n",
      "Combination model with alpha = 0.24: accuracy is 0.509526\n",
      "RMSE is 0.90496357724\n",
      "Combination model with alpha = 0.26: accuracy is 0.516150\n",
      "RMSE is 0.89693804573\n",
      "Combination model with alpha = 0.28: accuracy is 0.522271\n",
      "RMSE is 0.889388476377\n",
      "Combination model with alpha = 0.30: accuracy is 0.528547\n",
      "RMSE is 0.882327086874\n",
      "Combination model with alpha = 0.32: accuracy is 0.534488\n",
      "RMSE is 0.875765686035\n",
      "Combination model with alpha = 0.34: accuracy is 0.539876\n",
      "RMSE is 0.869715590138\n",
      "Combination model with alpha = 0.36: accuracy is 0.545666\n",
      "RMSE is 0.864187538043\n",
      "Combination model with alpha = 0.38: accuracy is 0.551781\n",
      "RMSE is 0.859191606322\n",
      "Combination model with alpha = 0.40: accuracy is 0.557118\n",
      "RMSE is 0.854737125744\n",
      "Combination model with alpha = 0.42: accuracy is 0.562591\n",
      "RMSE is 0.850832600552\n",
      "Combination model with alpha = 0.44: accuracy is 0.567863\n",
      "RMSE is 0.847485632024\n",
      "Combination model with alpha = 0.46: accuracy is 0.572912\n",
      "RMSE is 0.844702847809\n",
      "Combination model with alpha = 0.48: accuracy is 0.578323\n",
      "RMSE is 0.842489838511\n",
      "Combination model with alpha = 0.50: accuracy is 0.583327\n",
      "RMSE is 0.840851102858\n",
      "Combination model with alpha = 0.52: accuracy is 0.588596\n",
      "RMSE is 0.839790002707\n",
      "Combination model with alpha = 0.54: accuracy is 0.593012\n",
      "RMSE is 0.839308728897\n",
      "Combination model with alpha = 0.56: accuracy is 0.597197\n",
      "RMSE is 0.839408278757\n",
      "Combination model with alpha = 0.58: accuracy is 0.601218\n",
      "RMSE is 0.840088445804\n",
      "Combination model with alpha = 0.60: accuracy is 0.605011\n",
      "RMSE is 0.841347821884\n",
      "Combination model with alpha = 0.62: accuracy is 0.608861\n",
      "RMSE is 0.843183811687\n",
      "Combination model with alpha = 0.64: accuracy is 0.611842\n",
      "RMSE is 0.84559265931\n",
      "Combination model with alpha = 0.66: accuracy is 0.614469\n",
      "RMSE is 0.848569486225\n",
      "Combination model with alpha = 0.68: accuracy is 0.617468\n",
      "RMSE is 0.852108339774\n",
      "Combination model with alpha = 0.70: accuracy is 0.619939\n",
      "RMSE is 0.856202251083\n",
      "Combination model with alpha = 0.72: accuracy is 0.622313\n",
      "RMSE is 0.860843301126\n",
      "Combination model with alpha = 0.74: accuracy is 0.624540\n",
      "RMSE is 0.866022693532\n",
      "Combination model with alpha = 0.76: accuracy is 0.626546\n",
      "RMSE is 0.871730832665\n",
      "Combination model with alpha = 0.78: accuracy is 0.628607\n",
      "RMSE is 0.877957405465\n",
      "Combination model with alpha = 0.80: accuracy is 0.630979\n",
      "RMSE is 0.884691465591\n",
      "Combination model with alpha = 0.82: accuracy is 0.633833\n",
      "RMSE is 0.891921518439\n",
      "Combination model with alpha = 0.84: accuracy is 0.636442\n",
      "RMSE is 0.899635605735\n",
      "Combination model with alpha = 0.86: accuracy is 0.639182\n",
      "RMSE is 0.907821388514\n",
      "Combination model with alpha = 0.88: accuracy is 0.640098\n",
      "RMSE is 0.916466227456\n",
      "Combination model with alpha = 0.90: accuracy is 0.640098\n",
      "RMSE is 0.925557259697\n",
      "Combination model with alpha = 0.92: accuracy is 0.640098\n",
      "RMSE is 0.93508147141\n",
      "Combination model with alpha = 0.94: accuracy is 0.640098\n",
      "RMSE is 0.945025765605\n",
      "Combination model with alpha = 0.96: accuracy is 0.640098\n",
      "RMSE is 0.955377024754\n",
      "Combination model with alpha = 0.98: accuracy is 0.640098\n",
      "RMSE is 0.966122167991\n",
      "Combination model with alpha = 1.00: accuracy is 0.640098\n",
      "RMSE is 0.977248202774\n"
     ]
    }
   ],
   "source": [
    "def scoresOfCombinationModel(clf_pred, mf_pred, alpha):\n",
    "    prediction = clf_pred*alpha + mf_pred*(1-alpha)\n",
    "    accuracy = np.sum(trueRating_cv == np.round(prediction))*1.0/N_cv\n",
    "    print(\"Combination model with alpha = %.2f: accuracy is %.6f\" % (alpha, accuracy))\n",
    "    RMSE = np.sqrt(np.sum((trueRating_cv - prediction)**2)/N_cv)\n",
    "    print(\"RMSE is\", RMSE)\n",
    "\n",
    "    return accuracy, RMSE\n",
    "\n",
    "accuracies = []\n",
    "RMSEs = []\n",
    "def selectAlpha(clf_pred, mf_pred):\n",
    "    maxAccu, best_alpha = 0, -1\n",
    "    for alpha in np.arange(0, 1.02, 0.02):\n",
    "        accu, RMSE = scoresOfCombinationModel(clf_pred, mf_pred, alpha)\n",
    "        accuracies.append(accu)\n",
    "        RMSEs.append(RMSE)\n",
    "        if(accu > maxAccu):\n",
    "            maxAccu = accu\n",
    "            best_alpha = alpha\n",
    "    return best_alpha\n",
    "\n",
    "clf_pred = logistic_clf.predict(wordvec5[N_train: N_train+N_cv])\n",
    "mf_pred = MF_pred_cv.iloc[:,2]\n",
    "\n",
    "optimalAlpha = selectAlpha(clf_pred, mf_pred)"
   ]
  },
  {
   "cell_type": "code",
   "execution_count": 154,
   "metadata": {
    "collapsed": false
   },
   "outputs": [
    {
     "data": {
      "text/plain": [
       "0.88"
      ]
     },
     "execution_count": 154,
     "metadata": {},
     "output_type": "execute_result"
    }
   ],
   "source": [
    "optimalAlpha"
   ]
  },
  {
   "cell_type": "markdown",
   "metadata": {},
   "source": [
    "Optimal alpha = 0.88 leads to an accuracy of 0.6401 and a RMSE of 0.9165."
   ]
  },
  {
   "cell_type": "code",
   "execution_count": 155,
   "metadata": {
    "collapsed": false
   },
   "outputs": [
    {
     "data": {
      "image/png": "[encoded data removed]",
      "text/plain": [
       "<matplotlib.figure.Figure at 0x154b971d0>"
      ]
     },
     "metadata": {},
     "output_type": "display_data"
    }
   ],
   "source": [
    "%matplotlib inline\n",
    "\n",
    "import matplotlib.pyplot as plt\n",
    "\n",
    "plt.plot(np.arange(0, 1.02, 0.02), accuracies, label='Accuracy')\n",
    "plt.plot(np.arange(0, 1.02, 0.02), RMSEs, label='RMSE')\n",
    "plt.xlabel('alpha')\n",
    "plt.title('Combine Logistic Regression and Matrix Factorization')\n",
    "plt.legend()\n",
    "plt.show()"
   ]
  },
  {
   "cell_type": "markdown",
   "metadata": {},
   "source": [
    "## Test Accuracy"
   ]
  },
  {
   "cell_type": "code",
   "execution_count": 156,
   "metadata": {
    "collapsed": false
   },
   "outputs": [
    {
     "name": "stdout",
     "output_type": "stream",
     "text": [
      "Test accuracy is 0.640627\n",
      "Test RMSE is 0.917416395399\n"
     ]
    }
   ],
   "source": [
    "alpha = optimalAlpha\n",
    "trueRating_test = allratings[-N_test:]\n",
    "trueRating_test.index = range(N_test)\n",
    "\n",
    "clf_pred_test = logistic_clf.predict(wordvec5[-N_test:])\n",
    "mf_pred_test = MF_pred_test.iloc[:,2]\n",
    "prediction = clf_pred_test*alpha + mf_pred_test*(1-alpha)\n",
    "\n",
    "accuracy = np.sum(trueRating_test == np.round(prediction))*1.0/N_test\n",
    "print(\"Test accuracy is %.6f\" % (accuracy))\n",
    "    \n",
    "RMSE = np.sqrt(np.sum((trueRating_test - prediction)**2)/N_test)\n",
    "print(\"Test RMSE is\", RMSE)"
   ]
  },
  {
   "cell_type": "markdown",
   "metadata": {},
   "source": [
    "# Conclusion\n",
    "\n",
    "Logistic regression based on review (including summary) text is most effective to predict the class correctly (higher accuracy). While matrix factorization alone has worse accuracy and RMSE than logistic regression, combining matrix factorization prediction into logistic regression prediction can leads to a better RMSE score. "
   ]
  },
  {
   "cell_type": "code",
   "execution_count": null,
   "metadata": {
    "collapsed": true
   },
   "outputs": [],
   "source": []
  }
 ],
 "metadata": {
  "anaconda-cloud": {},
  "kernelspec": {
   "display_name": "Python [default]",
   "language": "python",
   "name": "python2"
  },
  "language_info": {
   "codemirror_mode": {
    "name": "ipython",
    "version": 2
   },
   "file_extension": ".py",
   "mimetype": "text/x-python",
   "name": "python",
   "nbconvert_exporter": "python",
   "pygments_lexer": "ipython2",
   "version": "2.7.13"
  }
 },
 "nbformat": 4,
 "nbformat_minor": 1
}
