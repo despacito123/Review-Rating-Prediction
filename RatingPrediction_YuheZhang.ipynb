{
 "cells": [
  {
   "cell_type": "markdown",
   "metadata": {},
   "source": [
    "In this notebook, I consider the 5-core dataset of reviews for movies and TV on Amazon, in which all users and items have at least 5 reviews. The dataset can be downloaded at this [website](http://jmcauley.ucsd.edu/data/amazon/). The task is to predict the ratings. Two different types of model can be exploited for this kind of dataset. The first type is collabrative filtering based on the reviewer-item rating matrix. The second is a classifier based purely on the review text content. I will first try both methods independently, and then check if combination of two methods can lead to better performance.\n",
    "\n",
    "# I. Data Aquisition\n",
    "\n",
    "First download the *reviews_Movies_and_TV_5.json.gz* file from the [website](http://jmcauley.ucsd.edu/data/amazon/). Then use the following code to read into a dataframe."
   ]
  },
  {
   "cell_type": "code",
   "execution_count": 3,
   "metadata": {
    "collapsed": false
   },
   "outputs": [],
   "source": [
    "import numpy as np\n",
    "import pandas as pd\n",
    "import gzip\n",
    "\n",
    "\n",
    "def parse(path):\n",
    "  g = gzip.open(path, 'rb')\n",
    "  for l in g:\n",
    "    yield eval(l)\n",
    "\n",
    "def getDF(path):\n",
    "  i = 0\n",
    "  df = {}\n",
    "  for d in parse(path):\n",
    "    df[i] = d\n",
    "    i += 1\n",
    "  return pd.DataFrame.from_dict(df, orient='index')\n",
    "\n",
    "df = getDF('reviews_Movies_and_TV_5.json.gz')\n",
    "# df.to_csv(\"reviews_Movies_and_TV_5.csv\") # write to disk for future use\n",
    "# df2 = pd.read_csv('shuffled_reviews_Movies_and_TV_5.csv', index_col=0)"
   ]
  },
  {
   "cell_type": "markdown",
   "metadata": {},
   "source": [
    "I will use 70% of the entire dataset as training set, 20% as cross validation (CV) set, and 10% as test set."
   ]
  },
  {
   "cell_type": "code",
   "execution_count": 5,
   "metadata": {
    "collapsed": false
   },
   "outputs": [],
   "source": [
    "numOfReviews = len(df)\n",
    "\n",
    "N_train = numOfReviews*7/10\n",
    "N_cv = numOfReviews*2/10\n",
    "N_test = numOfReviews - N_train - N_cv"
   ]
  },
  {
   "cell_type": "markdown",
   "metadata": {},
   "source": [
    "# II. Biased Matrix Factorization (MF) Based on Reviewer-Item Rating Matrix\n",
    "\n",
    "I use the [MyMediaLite](http://www.mymedialite.net/) software to build the biased matrix factorization model. A good introduction to biased matrix factorization can be found at this [site](http://activisiongamescience.github.io/2016/01/11/Implicit-Recommender-Systems-Biased-Matrix-Factorization/).\n",
    "In the following, I first randomly shuffle the original data, extract the userId, productId, and ratings to form the dataframe **ratings**. I then divide the ratings dataframe into training, cross validation and test set, and save them as csv file to feed for the MyMediaLite software. "
   ]
  },
  {
   "cell_type": "code",
   "execution_count": 6,
   "metadata": {
    "collapsed": false
   },
   "outputs": [],
   "source": [
    "df2 = df.sample(frac = 1) # random shuffle\n",
    "del df\n",
    "# df2.to_csv(\"shuffled_reviews_Movies_and_TV_5.csv\")\n",
    "\n",
    "ratings = df2[['reviewerID', 'asin', 'overall']]\n",
    "ratings.iloc[0 : N_train, :].to_csv(\"ratings_Movies_and_TV_5_train.csv\", index = False, header = False)\n",
    "\n",
    "ratings_cv = ratings.iloc[N_train : N_train + N_cv, :]\n",
    "ratings_cv.index = range(0, len(ratings_cv))\n",
    "ratings_cv.to_csv(\"ratings_Movies_and_TV_5_cv.csv\", index = False, header = False)\n",
    "\n",
    "ratings_test = ratings.iloc[-N_test :, :]\n",
    "ratings_test.index = range(0, len(ratings_test))\n",
    "ratings_test.to_csv(\"ratings_Movies_and_TV_5_test.csv\", index = False, header = False)"
   ]
  },
  {
   "cell_type": "markdown",
   "metadata": {},
   "source": [
    "[Download](http://www.mymedialite.net/download/index.html) the MyMediaLite binary package and use the following command to train biased MF model and make prediction on validation set and test set repectively:\n",
    "\n",
    "```\n",
    "./rating_prediction --recommender=BiasedMatrixFactorization --recommender-options=\"num_factors=20 bias_reg=0.001\" --training-file=ratings_Movies_and_TV_5_train.csv --test-file=ratings_Movies_and_TV_5_cv.csv --prediction-file=prediction_cv.csv\n",
    "\n",
    "./rating_prediction --recommender=BiasedMatrixFactorization --recommender-options=\"num_factors=20 bias_reg=0.001\" --training-file=ratings_Movies_and_TV_5_train.csv --test-file=ratings_Movies_and_TV_5_test.csv --prediction-file=prediction_test.csv\n",
    "\n",
    "```\n",
    "The above command produces prediction files \"prediction_cv.csv\" and \"prediction_test.csv\" for the validation set and test set respectively. We read the \"prediction_cv.csv\" file and calculate the root mean square error (RMSE) and accuracy for validation set."
   ]
  },
  {
   "cell_type": "code",
   "execution_count": 7,
   "metadata": {
    "collapsed": false
   },
   "outputs": [
    {
     "name": "stdout",
     "output_type": "stream",
     "text": [
      "('matrix factorization: RMSE is', 1.033712258563287)\n",
      "('matrix factorization: accuracy is', 0.43604236743975072)\n"
     ]
    }
   ],
   "source": [
    "MF_pred_cv = pd.read_csv(\"prediction_cv.csv\" ,sep=\"\\t\", header=None)\n",
    "MF_pred_test = pd.read_csv(\"prediction_test.csv\" ,sep=\"\\t\", header=None)\n",
    "\n",
    "MF_RMSE_cv = np.sqrt(np.sum((MF_pred_cv.iloc[:,2] - ratings_cv['overall'])**2)/N_cv)\n",
    "print(\"matrix factorization: RMSE is\", MF_RMSE_cv)\n",
    "\n",
    "MF_ratingPred_cv = np.round(MF_pred_cv.iloc[:, 2]) # round to integer ratings\n",
    "MF_accuracy_cv = sum(MF_ratingPred_cv==ratings_cv['overall'])*1.0/N_cv\n",
    "print(\"matrix factorization: accuracy is\", MF_accuracy_cv)"
   ]
  },
  {
   "cell_type": "markdown",
   "metadata": {},
   "source": [
    "# III. Classifier Based on Review Text Content\n",
    "\n",
    "In the next, we will use word count vector of the review text and/or summary text as features to build classifer. We will try naive Bayes, logistic regression and linear regression. \n",
    "\n",
    "## Feature Selection\n",
    "\n",
    "The dataset comes with a default vocabulary containing all the words appearing in the training set. The performance of classification algorithms on such a huge vocabulary might be poor. There are diffrent ways to reduce the size of the vocabulary (dictionary). Since I don't have enough time to check all the different dictionaries to identify the best feature set (features being words), I would just utilize some of the findings in previous work. For example, [this work](http://cs229.stanford.edu/proj2011/MehtaPhilipScaria-Predicting%20Star%20Ratings%20from%20Movie%20Review%20Comments.pdf) shows that word stemming reduces performance, removing stop words improves performance largely, identifying negation of context and including frequent bigrams does not improve performance, dliminating words that have very less information results in improvement in performance. **Given the above findings, I will construct unigram word count vector from the review texts with standard English stop-words removed. I will also ignore words that have a document frequency strictly lower than a threshold min_df.** One consideration of using a min_df is to reduce the dimension of the feature, otherwise the logistic regression may take too long to train.\n",
    "\n",
    "Because naive Bayes algorithm is fast to train, I will use naive Bayes to select best min_df and check the performance of using review and/or summary texts as training set."
   ]
  },
  {
   "cell_type": "code",
   "execution_count": 9,
   "metadata": {
    "collapsed": false
   },
   "outputs": [],
   "source": [
    "from time import time\n",
    "\n",
    "from sklearn.feature_extraction.text import CountVectorizer\n",
    "from sklearn.linear_model import LogisticRegression\n",
    "from sklearn.naive_bayes import MultinomialNB\n",
    "from sklearn.naive_bayes import BernoulliNB\n",
    "from sklearn.linear_model import Ridge"
   ]
  },
  {
   "cell_type": "code",
   "execution_count": 10,
   "metadata": {
    "collapsed": true
   },
   "outputs": [],
   "source": [
    "# Save the true ratings for training set and validation set for later use\n",
    "\n",
    "target_train = df2['overall'][0:N_train]\n",
    "target_train.index = range(N_train)\n",
    "\n",
    "trueRating_cv = df2['overall'][N_train: N_train+N_cv]\n",
    "trueRating_cv.index = range(N_cv)"
   ]
  },
  {
   "cell_type": "code",
   "execution_count": 11,
   "metadata": {
    "collapsed": true
   },
   "outputs": [],
   "source": [
    "# Function to calculate accuracy and RMSE on validation set\n",
    "def scoresOnCV(model, wordvec, description):\n",
    "    prediction = model.predict(wordvec[N_train: N_train+N_cv])\n",
    "    accuracy = np.sum(trueRating_cv == np.round(prediction))*1.0/N_cv\n",
    "    print(description + \": accuracy is \"+ str(accuracy))\n",
    "    RMSE = np.sqrt(np.sum((trueRating_cv - prediction)**2)/N_cv)\n",
    "    print(description + \": RMSE is \"+ str(RMSE))\n",
    "\n",
    "    return accuracy, RMSE"
   ]
  },
  {
   "cell_type": "markdown",
   "metadata": {},
   "source": [
    "Build the word count vector **wordvec** with standard English stop-words and a min_df = 0.001."
   ]
  },
  {
   "cell_type": "code",
   "execution_count": 12,
   "metadata": {
    "collapsed": false
   },
   "outputs": [],
   "source": [
    "# Save the review texts onto disk, and the vectorizer reads from the disk to build the word count vectors\n",
    "# There will be memory issues if I directly pass the pd dataframe to the vectorizer\n",
    "df2['reviewText'].to_csv(\"corpus.txt\", index=False)"
   ]
  },
  {
   "cell_type": "code",
   "execution_count": 13,
   "metadata": {
    "collapsed": false
   },
   "outputs": [
    {
     "name": "stdout",
     "output_type": "stream",
     "text": [
      "dimension of the word count vector is (1697533, 7762)\n"
     ]
    }
   ],
   "source": [
    "corpus = open('corpus.txt')\n",
    "vectorizer = CountVectorizer(stop_words = 'english', min_df=0.001)\n",
    "wordvec = vectorizer.fit_transform(corpus)\n",
    "# wordvec = vectorizer.fit_transform(df2['reviewText'].values.astype('U')) # this line leads to memory issue\n",
    "\n",
    "print(\"dimension of the word count vector is (%d, %d)\" %(wordvec.shape[0], wordvec.shape[1]))"
   ]
  },
  {
   "cell_type": "code",
   "execution_count": 14,
   "metadata": {
    "collapsed": false
   },
   "outputs": [
    {
     "name": "stdout",
     "output_type": "stream",
     "text": [
      "('min_df =', 0.001)\n",
      "multinomial naive Bayes: accuracy is 0.582019169028\n",
      "multinomial naive Bayes: RMSE is 1.17076284672\n"
     ]
    }
   ],
   "source": [
    "print('min_df =', 0.001)\n",
    "\n",
    "mnb_clf = MultinomialNB()\n",
    "\n",
    "mnb_clf.fit(wordvec[0:N_train], target_train)\n",
    "mnb_accuracy_cv, mnb_RMSE_cv = scoresOnCV(mnb_clf, wordvec, \"multinomial naive Bayes\")"
   ]
  },
  {
   "cell_type": "code",
   "execution_count": 15,
   "metadata": {
    "collapsed": false
   },
   "outputs": [
    {
     "name": "stdout",
     "output_type": "stream",
     "text": [
      "Bernoulli naive Bayes: accuracy is 0.527266086608\n",
      "Bernoulli naive Bayes: RMSE is 1.21038852531\n"
     ]
    }
   ],
   "source": [
    "bnb_clf = BernoulliNB()\n",
    "\n",
    "bnb_clf.fit(wordvec[0:N_train], target_train)\n",
    "bnb_accuracy_cv, bnb_RMSE_cv = scoresOnCV(bnb_clf, wordvec, \"Bernoulli naive Bayes\")"
   ]
  },
  {
   "cell_type": "markdown",
   "metadata": {},
   "source": [
    "We can see the naive Bayes of multinomial event model has a higher accuracy than that of the Bernoulli model. \n",
    "Next, I modify min_df to 0.0001 and build **wordvec2**."
   ]
  },
  {
   "cell_type": "code",
   "execution_count": 16,
   "metadata": {
    "collapsed": false
   },
   "outputs": [
    {
     "name": "stdout",
     "output_type": "stream",
     "text": [
      "('min_df =', 0.0001)\n",
      "multinomial naive Bayes: accuracy is 0.579762949698\n",
      "multinomial naive Bayes: RMSE is 1.18344819156\n",
      "Bernoulli naive Bayes: accuracy is 0.528659287317\n",
      "Bernoulli naive Bayes: RMSE is 1.20902013615\n"
     ]
    }
   ],
   "source": [
    "corpus = open('corpus.txt')\n",
    "vectorizer2 = CountVectorizer(stop_words = 'english', min_df=0.0001)\n",
    "wordvec2 = vectorizer2.fit_transform(corpus)\n",
    "\n",
    "print('min_df =', 0.0001)\n",
    "\n",
    "mnb_clf = MultinomialNB()\n",
    "mnb_clf.fit(wordvec2[0:N_train], target_train)\n",
    "mnb_accuracy_cv, mnb_RMSE_cv = scoresOnCV(mnb_clf, wordvec2, \"multinomial naive Bayes\")\n",
    "\n",
    "bnb_clf = BernoulliNB()\n",
    "bnb_clf.fit(wordvec2[0:N_train], target_train)\n",
    "bnb_accuracy_cv, bnb_RMSE_cv = scoresOnCV(bnb_clf, wordvec2, \"Bernoulli naive Bayes\")"
   ]
  },
  {
   "cell_type": "markdown",
   "metadata": {},
   "source": [
    "Next, I try min_df = 0.01 for **wordvec3**."
   ]
  },
  {
   "cell_type": "code",
   "execution_count": 17,
   "metadata": {
    "collapsed": false
   },
   "outputs": [
    {
     "name": "stdout",
     "output_type": "stream",
     "text": [
      "('min_df =', 0.01)\n",
      "multinomial naive Bayes: accuracy is 0.577618657697\n",
      "multinomial naive Bayes: RMSE is 1.18720540817\n",
      "Bernoulli naive Bayes: accuracy is 0.518824409583\n",
      "Bernoulli naive Bayes: RMSE is 1.25180588008\n"
     ]
    }
   ],
   "source": [
    "corpus = open('corpus.txt')\n",
    "vectorizer3 = CountVectorizer(stop_words = 'english', min_df=0.01)\n",
    "wordvec3 = vectorizer3.fit_transform(corpus)\n",
    "\n",
    "print('min_df =', 0.01)\n",
    "\n",
    "mnb_clf.fit(wordvec3[0:N_train], target_train)\n",
    "mnb_accuracy_cv, mnb_RMSE_cv = scoresOnCV(mnb_clf, wordvec3, \"multinomial naive Bayes\")\n",
    "\n",
    "bnb_clf = BernoulliNB()\n",
    "bnb_clf.fit(wordvec3[0:N_train], target_train)\n",
    "bnb_accuracy_cv, bnb_RMSE_cv = scoresOnCV(bnb_clf, wordvec3, \"Bernoulli naive Bayes\")"
   ]
  },
  {
   "cell_type": "markdown",
   "metadata": {
    "collapsed": false
   },
   "source": [
    "Next, I use the summary text only to build the word count vector **wordvec4**. Since the Bernoulli naive Bayes always performs worse than the multinomial naive Bayes, I will only test for multinomial naive Bayes in the following."
   ]
  },
  {
   "cell_type": "code",
   "execution_count": 18,
   "metadata": {
    "collapsed": false
   },
   "outputs": [
    {
     "name": "stdout",
     "output_type": "stream",
     "text": [
      "multinomial naive Bayes: accuracy is 0.581798259825\n",
      "multinomial naive Bayes: RMSE is 1.19318568138\n"
     ]
    }
   ],
   "source": [
    "vectorizer4 = CountVectorizer(stop_words = 'english')\n",
    "wordvec4 = vectorizer4.fit_transform(df2['summary'].values.astype('U'))\n",
    "\n",
    "mnb_clf.fit(wordvec4[0:N_train], target_train)\n",
    "mnb_accuracy_cv, mnb_RMSE_cv = scoresOnCV(mnb_clf, wordvec4, \"multinomial naive Bayes\")"
   ]
  },
  {
   "cell_type": "markdown",
   "metadata": {},
   "source": [
    "The accuracy of the model using summary text is actually as good as the model using the entire review text (**wordvec**). I then add the review text and summary text together to form a new text and use the new text to build the word count vector **wordvec5** with min_df = 0.001."
   ]
  },
  {
   "cell_type": "code",
   "execution_count": 19,
   "metadata": {
    "collapsed": true
   },
   "outputs": [],
   "source": [
    "df2['reviewTextandSummary'] = df2['reviewText'] + df2['summary']\n",
    "df2['reviewTextandSummary'].to_csv(\"corpus2.txt\", index=False)\n",
    "\n",
    "corpus2 = open('corpus2.txt')\n",
    "\n",
    "vectorizer5 = CountVectorizer(stop_words = 'english', min_df=0.001)\n",
    "wordvec5 = vectorizer5.fit_transform(corpus2)"
   ]
  },
  {
   "cell_type": "code",
   "execution_count": 20,
   "metadata": {
    "collapsed": false
   },
   "outputs": [
    {
     "name": "stdout",
     "output_type": "stream",
     "text": [
      "multinomial naive Bayes: accuracy is 0.595883430632\n",
      "multinomial naive Bayes: RMSE is 1.1114540729\n"
     ]
    }
   ],
   "source": [
    "mnb_clf.fit(wordvec5[0:N_train], target_train)\n",
    "mnb_accuracy_cv, mnb_RMSE_cv = scoresOnCV(mnb_clf, wordvec5, \"multinomial naive Bayes\")"
   ]
  },
  {
   "cell_type": "markdown",
   "metadata": {},
   "source": [
    "The above feature **wordvec5** gives the best accuracy so far.\n",
    "\n",
    "In the next, I eliminate words with low information, using same method as this previous [work](http://cs229.stanford.edu/proj2011/MehtaPhilipScaria-Predicting%20Star%20Ratings%20from%20Movie%20Review%20Comments.pdf). Starting with wordvec5, The ratio of number of occurrences of each word in positive comments (4, 5 star ratings) and negative comments (1, 2 ratings) are counted and those words with positive-count/netative-count > 2 or netative-count/positive-count> 2 are selected."
   ]
  },
  {
   "cell_type": "code",
   "execution_count": 21,
   "metadata": {
    "collapsed": false
   },
   "outputs": [],
   "source": [
    "from scipy.sparse import find\n",
    "\n",
    "allratings = df2['overall']\n",
    "allratings.index = range(numOfReviews)"
   ]
  },
  {
   "cell_type": "code",
   "execution_count": 32,
   "metadata": {
    "collapsed": false
   },
   "outputs": [
    {
     "name": "stdout",
     "output_type": "stream",
     "text": [
      "select words with information: done in 2725.649s\n"
     ]
    }
   ],
   "source": [
    "t0 = time()\n",
    "\n",
    "select = []\n",
    "for i in range(wordvec5.shape[1]):\n",
    "    rows, columns, values = find(wordvec5[:, i])\n",
    "    positive = np.sum(values[allratings[rows] > 3])\n",
    "    negative = np.sum(values[allratings[rows] < 3])\n",
    "    if(positive*negative == 0 or positive/negative > 2 or negative/positive > 2):\n",
    "        select.append(i)\n",
    "        \n",
    "print(\"select words with information: done in %0.3fs\" % (time() - t0))"
   ]
  },
  {
   "cell_type": "code",
   "execution_count": 35,
   "metadata": {
    "collapsed": false
   },
   "outputs": [
    {
     "name": "stdout",
     "output_type": "stream",
     "text": [
      "multinomial naive Bayes: accuracy is 0.561645449565\n",
      "multinomial naive Bayes: RMSE is 1.29553774722\n"
     ]
    }
   ],
   "source": [
    "wordvec6 = wordvec5[:,select]\n",
    "mnb_clf.fit(wordvec6[0:N_train], target_train)\n",
    "mnb_accuracy_cv, mnb_RMSE_cv = scoresOnCV(mnb_clf, wordvec6, \"multinomial naive Bayes\")"
   ]
  },
  {
   "cell_type": "markdown",
   "metadata": {},
   "source": [
    "After elimilating low-information words from the **wordvec5**, the accuray actually becomes lower than using the original **wordvec5** feature."
   ]
  },
  {
   "cell_type": "markdown",
   "metadata": {},
   "source": [
    "## Model Selection\n",
    "\n",
    "In the above, I have found the optimal feature, **wordvec5**, namely the word count vector of the combined text of review and summary, with min_df = 0.001. The multinomial naive Bayes classifier obtains an accuracy of 0.596 and a RMSE of 1.111 with this feature. In the next, we will try logistic regression and linear regression. Note that for linear regression, the prediction is rounded to nearest integer when calculating accuracy, but remains decimal when calculating RMSE. "
   ]
  },
  {
   "cell_type": "code",
   "execution_count": 24,
   "metadata": {
    "collapsed": false
   },
   "outputs": [
    {
     "name": "stdout",
     "output_type": "stream",
     "text": [
      "linear regression: accuracy is 0.403436169022\n",
      "linear regression: RMSE is 0.930900642375\n",
      "linear regression: done in 332.027s\n"
     ]
    }
   ],
   "source": [
    "t0 = time()\n",
    "\n",
    "linear_reg = Ridge(alpha=0.1)\n",
    "linear_reg.fit(wordvec5[0:N_train], target_train)\n",
    "lreg_accuracy_cv, lreg_RMSE_cv = scoresOnCV(linear_reg, wordvec5, \"linear regression\")\n",
    "\n",
    "print(\"linear regression: done in %0.3fs\" % (time() - t0))"
   ]
  },
  {
   "cell_type": "code",
   "execution_count": 25,
   "metadata": {
    "collapsed": false
   },
   "outputs": [
    {
     "name": "stderr",
     "output_type": "stream",
     "text": [
      "/Users/yuhezhang/anaconda2/lib/python2.7/site-packages/sklearn/linear_model/sag.py:286: ConvergenceWarning: The max_iter was reached which means the coef_ did not converge\n",
      "  \"the coef_ did not converge\", ConvergenceWarning)\n"
     ]
    },
    {
     "name": "stdout",
     "output_type": "stream",
     "text": [
      "logistic regression: accuracy is 0.640103562235\n",
      "logistic regression: RMSE is 0.97725272381\n",
      "logistic regression training: done in 1148.898s\n"
     ]
    }
   ],
   "source": [
    "t0 = time()\n",
    "\n",
    "logistic_clf = LogisticRegression(multi_class='multinomial', solver='sag', max_iter=300) \n",
    "logistic_clf.fit(wordvec5[0:N_train], target_train)\n",
    "logi_accuracy_cv, logi_RMSE_cv = scoresOnCV(logistic_clf, wordvec5, \"multinomial logistic regression\")\n",
    "\n",
    "print(\"logistic regression (multinomial) training: done in %0.3fs\" % (time() - t0))"
   ]
  },
  {
   "cell_type": "code",
   "execution_count": 26,
   "metadata": {
    "collapsed": false
   },
   "outputs": [
    {
     "name": "stdout",
     "output_type": "stream",
     "text": [
      "logistic regression: accuracy is 0.631208284979\n",
      "logistic regression: RMSE is 1.03565104716\n",
      "logistic regression (one vs rest) training: done in 834.801s\n"
     ]
    }
   ],
   "source": [
    "t0 = time()\n",
    "\n",
    "logistic_clf2 = LogisticRegression() \n",
    "logistic_clf2.fit(wordvec5[0:N_train], target_train)\n",
    "logi_accuracy_cv2, logi_RMSE_cv2 = scoresOnCV(logistic_clf2, wordvec5, \"one vs rest logistic regression\")\n",
    "\n",
    "print(\"logistic regression (one vs rest) training: done in %0.3fs\" % (time() - t0))"
   ]
  },
  {
   "cell_type": "markdown",
   "metadata": {},
   "source": [
    "The best classfier model among all I investigated is the multinomial logistic regression."
   ]
  },
  {
   "cell_type": "markdown",
   "metadata": {},
   "source": [
    "# IV. Combining MF and Classifier \n",
    "\n",
    "The simplest way to combine the MF and classifier (CLF) is to add their predictions with some weights:\n",
    "\\begin{equation}\n",
    "Prediction = \\alpha*Prediction_{CLF} + (1-\\alpha)*Prediction_{MF}\n",
    "\\end{equation}\n",
    "I will combine the MF and the logistic regression model above, and find the best parameter $\\alpha$ through validation set.\n",
    "\n",
    "A previous [work](https://www.hindawi.com/journals/cin/2016/5968705/) combining these two kinds of models define the hypothesis as a combination of the two using the same scheme as above. Then they minimize the cost function according to the combined hypothesis, so that they train the parameters in MF and CLF together. My method is to train the MF and CLF independently and combine their prediction at last step. I think their method should perform better but I don't have time to try. "
   ]
  },
  {
   "cell_type": "code",
   "execution_count": 27,
   "metadata": {
    "collapsed": false
   },
   "outputs": [
    {
     "name": "stdout",
     "output_type": "stream",
     "text": [
      "Combination model with alpha = 0.00: accuracy is 0.436042\n",
      "('RMSE is', 1.033712258563287)\n",
      "Combination model with alpha = 0.02: accuracy is 0.442357\n",
      "('RMSE is', 1.0209772617975694)\n",
      "Combination model with alpha = 0.04: accuracy is 0.448425\n",
      "('RMSE is', 1.0085650397790238)\n",
      "Combination model with alpha = 0.06: accuracy is 0.454210\n",
      "('RMSE is', 0.99648765399992134)\n",
      "Combination model with alpha = 0.08: accuracy is 0.460392\n",
      "('RMSE is', 0.98475742415945178)\n",
      "Combination model with alpha = 0.10: accuracy is 0.466339\n",
      "('RMSE is', 0.97338690100756409)\n",
      "Combination model with alpha = 0.12: accuracy is 0.472590\n",
      "('RMSE is', 0.96238883431912059)\n",
      "Combination model with alpha = 0.14: accuracy is 0.478637\n",
      "('RMSE is', 0.9517761357295017)\n",
      "Combination model with alpha = 0.16: accuracy is 0.484899\n",
      "('RMSE is', 0.94156183621647316)\n",
      "Combination model with alpha = 0.18: accuracy is 0.491541\n",
      "('RMSE is', 0.93175903808201488)\n",
      "Combination model with alpha = 0.20: accuracy is 0.497432\n",
      "('RMSE is', 0.92238086137387865)\n",
      "Combination model with alpha = 0.22: accuracy is 0.503764\n",
      "('RMSE is', 0.91344038478882839)\n",
      "Combination model with alpha = 0.24: accuracy is 0.509537\n",
      "('RMSE is', 0.90495058122007344)\n",
      "Combination model with alpha = 0.26: accuracy is 0.516162\n",
      "('RMSE is', 0.89692424824565886)\n",
      "Combination model with alpha = 0.28: accuracy is 0.522288\n",
      "('RMSE is', 0.88937393400332165)\n",
      "Combination model with alpha = 0.30: accuracy is 0.528565\n",
      "('RMSE is', 0.88231185905617493)\n",
      "Combination model with alpha = 0.32: accuracy is 0.534494\n",
      "('RMSE is', 0.87574983501615666)\n",
      "Combination model with alpha = 0.34: accuracy is 0.539879\n",
      "('RMSE is', 0.86969918085711995)\n",
      "Combination model with alpha = 0.36: accuracy is 0.545672\n",
      "('RMSE is', 0.86417063800465743)\n",
      "Combination model with alpha = 0.38: accuracy is 0.551793\n",
      "('RMSE is', 0.85917428543238028)\n",
      "Combination model with alpha = 0.40: accuracy is 0.557124\n",
      "('RMSE is', 0.85471945611419553)\n",
      "Combination model with alpha = 0.42: accuracy is 0.562591\n",
      "('RMSE is', 0.8508146562707698)\n",
      "Combination model with alpha = 0.44: accuracy is 0.567863\n",
      "('RMSE is', 0.84746748890043277)\n",
      "Combination model with alpha = 0.46: accuracy is 0.572912\n",
      "('RMSE is', 0.84468458309259975)\n",
      "Combination model with alpha = 0.48: accuracy is 0.578326\n",
      "('RMSE is', 0.84247153058042412)\n",
      "Combination model with alpha = 0.50: accuracy is 0.583330\n",
      "('RMSE is', 0.84083283089790528)\n",
      "Combination model with alpha = 0.52: accuracy is 0.588593\n",
      "('RMSE is', 0.83977184636430613)\n",
      "Combination model with alpha = 0.54: accuracy is 0.593003\n",
      "('RMSE is', 0.83929076792819124)\n",
      "Combination model with alpha = 0.56: accuracy is 0.597188\n",
      "('RMSE is', 0.83939059267180771)\n",
      "Combination model with alpha = 0.58: accuracy is 0.601212\n",
      "('RMSE is', 0.84007111351090935)\n",
      "Combination model with alpha = 0.60: accuracy is 0.605006\n",
      "('RMSE is', 0.84133092133716103)\n",
      "Combination model with alpha = 0.62: accuracy is 0.608855\n",
      "('RMSE is', 0.84316741955181806)\n",
      "Combination model with alpha = 0.64: accuracy is 0.611836\n",
      "('RMSE is', 0.84557685064246024)\n",
      "Combination model with alpha = 0.66: accuracy is 0.614466\n",
      "('RMSE is', 0.84855433417322867)\n",
      "Combination model with alpha = 0.68: accuracy is 0.617471\n",
      "('RMSE is', 0.85209391530454315)\n",
      "Combination model with alpha = 0.70: accuracy is 0.619942\n",
      "('RMSE is', 0.85618862273856067)\n",
      "Combination model with alpha = 0.72: accuracy is 0.622316\n",
      "('RMSE is', 0.86083053481385541)\n",
      "Combination model with alpha = 0.74: accuracy is 0.624543\n",
      "('RMSE is', 0.86601085234652808)\n",
      "Combination model with alpha = 0.76: accuracy is 0.626543\n",
      "('RMSE is', 0.871719976740854)\n",
      "Combination model with alpha = 0.78: accuracy is 0.628607\n",
      "('RMSE is', 0.8779475918693862)\n",
      "Combination model with alpha = 0.80: accuracy is 0.630976\n",
      "('RMSE is', 0.88468274824508841)\n",
      "Combination model with alpha = 0.82: accuracy is 0.633833\n",
      "('RMSE is', 0.89191394807390711)\n",
      "Combination model with alpha = 0.84: accuracy is 0.636445\n",
      "('RMSE is', 0.89962922987647653)\n",
      "Combination model with alpha = 0.86: accuracy is 0.639188\n",
      "('RMSE is', 0.90781625149617773)\n",
      "Combination model with alpha = 0.88: accuracy is 0.640104\n",
      "('RMSE is', 0.91646237045831846)\n",
      "Combination model with alpha = 0.90: accuracy is 0.640104\n",
      "('RMSE is', 0.92555472080513246)\n",
      "Combination model with alpha = 0.92: accuracy is 0.640104\n",
      "('RMSE is', 0.93508028569547141)\n",
      "Combination model with alpha = 0.94: accuracy is 0.640104\n",
      "('RMSE is', 0.94502596522052029)\n",
      "Combination model with alpha = 0.96: accuracy is 0.640104\n",
      "('RMSE is', 0.95537863904251641)\n",
      "Combination model with alpha = 0.98: accuracy is 0.640104\n",
      "('RMSE is', 0.96612522360693709)\n",
      "Combination model with alpha = 1.00: accuracy is 0.640104\n",
      "('RMSE is', 0.97725272380969563)\n"
     ]
    }
   ],
   "source": [
    "def scoresOfCombinationModel(clf_pred, mf_pred, alpha):\n",
    "    prediction = clf_pred*alpha + mf_pred*(1-alpha)\n",
    "    accuracy = np.sum(trueRating_cv == np.round(prediction))*1.0/N_cv\n",
    "    print(\"Combination model with alpha = %.2f: accuracy is %.6f\" % (alpha, accuracy))\n",
    "    RMSE = np.sqrt(np.sum((trueRating_cv - prediction)**2)/N_cv)\n",
    "    print(\"RMSE is\", RMSE)\n",
    "\n",
    "    return accuracy, RMSE\n",
    "\n",
    "accuracies = []\n",
    "RMSEs = []\n",
    "def selectAlpha(clf_pred, mf_pred):\n",
    "    maxAccu, best_alpha = 0, -1\n",
    "    for alpha in np.arange(0, 1.02, 0.02):\n",
    "        accu, RMSE = scoresOfCombinationModel(clf_pred, mf_pred, alpha)\n",
    "        accuracies.append(accu)\n",
    "        RMSEs.append(RMSE)\n",
    "        if(accu > maxAccu):\n",
    "            maxAccu = accu\n",
    "            best_alpha = alpha\n",
    "    return best_alpha\n",
    "\n",
    "clf_pred = logistic_clf.predict(wordvec5[N_train: N_train+N_cv])\n",
    "mf_pred = MF_pred_cv.iloc[:,2]\n",
    "\n",
    "optimalAlpha = selectAlpha(clf_pred, mf_pred)"
   ]
  },
  {
   "cell_type": "code",
   "execution_count": 28,
   "metadata": {
    "collapsed": false
   },
   "outputs": [
    {
     "data": {
      "text/plain": [
       "0.88"
      ]
     },
     "execution_count": 28,
     "metadata": {},
     "output_type": "execute_result"
    }
   ],
   "source": [
    "optimalAlpha"
   ]
  },
  {
   "cell_type": "markdown",
   "metadata": {},
   "source": [
    "Optimal alpha = 0.88 leads to an validation accuracy of 0.6401 and a RMSE of 0.9165."
   ]
  },
  {
   "cell_type": "code",
   "execution_count": 29,
   "metadata": {
    "collapsed": false
   },
   "outputs": [
    {
     "data": {
      "image/png": "[encoded data removed]",
      "text/plain": [
       "<matplotlib.figure.Figure at 0x15b30df10>"
      ]
     },
     "metadata": {},
     "output_type": "display_data"
    }
   ],
   "source": [
    "%matplotlib inline\n",
    "\n",
    "import matplotlib.pyplot as plt\n",
    "\n",
    "plt.plot(np.arange(0, 1.02, 0.02), accuracies, label='Accuracy')\n",
    "plt.plot(np.arange(0, 1.02, 0.02), RMSEs, label='RMSE')\n",
    "plt.xlabel('alpha')\n",
    "plt.title('Combine Logistic Regression and Matrix Factorization')\n",
    "plt.legend()\n",
    "plt.show()"
   ]
  },
  {
   "cell_type": "markdown",
   "metadata": {},
   "source": [
    "## Test Accuracy"
   ]
  },
  {
   "cell_type": "code",
   "execution_count": 30,
   "metadata": {
    "collapsed": false
   },
   "outputs": [
    {
     "name": "stdout",
     "output_type": "stream",
     "text": [
      "Test accuracy is 0.640621\n",
      "('Test RMSE is', 0.91732649848954562)\n"
     ]
    }
   ],
   "source": [
    "alpha = optimalAlpha\n",
    "trueRating_test = allratings[-N_test:]\n",
    "trueRating_test.index = range(N_test)\n",
    "\n",
    "clf_pred_test = logistic_clf.predict(wordvec5[-N_test:])\n",
    "mf_pred_test = MF_pred_test.iloc[:,2]\n",
    "prediction = clf_pred_test*alpha + mf_pred_test*(1-alpha)\n",
    "\n",
    "accuracy = np.sum(trueRating_test == np.round(prediction))*1.0/N_test\n",
    "print(\"Test accuracy is %.6f\" % (accuracy))\n",
    "    \n",
    "RMSE = np.sqrt(np.sum((trueRating_test - prediction)**2)/N_test)\n",
    "print(\"Test RMSE is\", RMSE)"
   ]
  },
  {
   "cell_type": "markdown",
   "metadata": {},
   "source": [
    "# Conclusion\n",
    "\n",
    "Logistic regression based on review (including summary) text is most effective to predict the class correctly (higher accuracy). While matrix factorization alone has worse accuracy and RMSE than logistic regression, combining matrix factorization prediction into logistic regression prediction can leads to a better RMSE score. "
   ]
  }
 ],
 "metadata": {
  "anaconda-cloud": {},
  "kernelspec": {
   "display_name": "Python [default]",
   "language": "python",
   "name": "python2"
  },
  "language_info": {
   "codemirror_mode": {
    "name": "ipython",
    "version": 2
   },
   "file_extension": ".py",
   "mimetype": "text/x-python",
   "name": "python",
   "nbconvert_exporter": "python",
   "pygments_lexer": "ipython2",
   "version": "2.7.13"
  }
 },
 "nbformat": 4,
 "nbformat_minor": 1
}
